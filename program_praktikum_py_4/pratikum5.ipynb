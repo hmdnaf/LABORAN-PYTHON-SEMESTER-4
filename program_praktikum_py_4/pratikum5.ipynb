{
 "cells": [
  {
   "cell_type": "code",
   "execution_count": null,
   "id": "1804b95a",
   "metadata": {},
   "outputs": [],
   "source": [
    "import pandas as pd\n",
    "from sklearn.feature_extraction.text import CountVectorizer\n",
    "from sklearn.naive_bayes import MultinomialNB\n",
    "from sklearn.model_selection import train_test_split\n",
    "from sklearn.metrics import classification_report\n",
    "from sastrawi.stopword import StopWordRemover\n",
    "from sastrawi.stemmer import Stemmer"
   ]
  },
  {
   "cell_type": "code",
   "execution_count": null,
   "id": "0f003e18",
   "metadata": {},
   "outputs": [],
   "source": [
    "# inisialisasi stopwordremover dan stemmer\n",
    "stopword_remover = StopWordRemover()\n",
    "stemmer = Stemmer()\n",
    "\n",
    "def preprocess_text(text):\n",
    "    #menhapus stopword\n",
    "    text1_no_stopwords = stopword_remover.remove(text)\n",
    "    #melakukan stemming\n",
    "    text_stemmed = stemmer.stem(text_no_stopwords)\n",
    "    return text_stemmed"
   ]
  },
  {
   "cell_type": "code",
   "execution_count": null,
   "id": "ec78ee28",
   "metadata": {},
   "outputs": [],
   "source": [
    "#muat data file excel\n",
    "data = pd.read_excel('text_data.xlsx')\n",
    "\n",
    "#pra-pemrosesan teks\n",
    "data['text'] = data['text'].apply(preprocess_text)\n",
    "\n",
    "# misalnya data memiliki kolom 'text' untuk teks dan 'sentiment' untuk label sentimen\n",
    "texts = data['text']\n",
    "sentiments = data['sentiment']\n",
    "\n",
    "#split data menjadi data pelatihan dan data uji\n",
    "x_train, x_test, y_train, y_test = train_test_split(texts, sentiments, test_size=0.3, random_state=42)"
   ]
  },
  {
   "cell_type": "code",
   "execution_count": null,
   "id": "0fa99a5d",
   "metadata": {},
   "outputs": [],
   "source": [
    "# inisialisasi countVectorizer\n",
    "vectorizer = CountVectorizer()\n",
    "\n",
    "# fit dan transform data pelatihan\n",
    "x_train_counts = vectorizer.fit.transform(x_train)\n",
    "\n",
    "# transform data uji\n",
    "x_test_counts = vectorizer.transform(x_test)\n",
    "\n",
    "# inisialisasi multinomialNB\n",
    "model = MultinomialNB()\n",
    "\n",
    "# latih model\n",
    "model.fit(x_train_counts, y_train)\n",
    "\n",
    "# prediksi sentimen untuk data uji\n",
    "predictions = model.predict(x_test_counts)"
   ]
  },
  {
   "cell_type": "code",
   "execution_count": null,
   "id": "07db1bc5",
   "metadata": {},
   "outputs": [],
   "source": [
    "# menampilkan hasil evaluasi\n",
    "print(\"evaluasi model:\")\n",
    "print(classification_report(y_test, predictions))\n",
    "\n",
    "#menampilkan beberapa hasil prediksi\n",
    "print(\"\\nBeberapa hasil prediksi:\")\n",
    "for text, sentiment in zip(x_test, predictions):\n",
    "    print(f'teks: {text}\\nPrediksi Sentiment: {sentiment}\\n')\n",
    "\n",
    "# ekspor hasil prediksi ke file excel\n",
    "results = pd.DataFrame({'text': x_test, 'predicted_sentiment': predictions})\n",
    "results.to_excel('prediction.xlsx', index=False)\n",
    "\n",
    "print(\"Hasil prediksi telah diekspor ke 'predictions.xlsx'\")"
   ]
  },
  {
   "cell_type": "code",
   "execution_count": null,
   "id": "7e20f49f",
   "metadata": {},
   "outputs": [],
   "source": [
    "# fungsi untuk menganalisis teks baru\n",
    "def analyze_text(text):\n",
    "    text_counts = vectorizer.transform([text])\n",
    "    predictions = model.predict(text_counts)[0]\n",
    "    return predictions\n",
    "\n",
    "# menganalisis teks dari input pengguna\n",
    "while True:\n",
    "    user_input = input(\"\\nMasukkan teks untuk analisis sentimen (atau ketik 'exit' untuk keluar): \")\n",
    "    if user_input.lower() == 'exit':\n",
    "        break\n",
    "    sentiment = analyze_text(user_input)\n",
    "    print(f'Prediksi sentimen untuk \"{user_input}\": {sentiment}')"
   ]
  }
 ],
 "metadata": {
  "language_info": {
   "name": "python"
  }
 },
 "nbformat": 4,
 "nbformat_minor": 5
}
