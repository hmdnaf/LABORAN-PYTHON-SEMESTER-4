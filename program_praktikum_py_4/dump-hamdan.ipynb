{
 "cells": [
  {
   "cell_type": "code",
   "execution_count": 3,
   "id": "97c9c821",
   "metadata": {},
   "outputs": [
    {
     "name": "stdout",
     "output_type": "stream",
     "text": [
      "                          fitur       ARI\n",
      "0  Waktu Rata-Rata Situs(menit)  0.038788\n",
      "1           Kunjungan PerMinggu  0.033018\n",
      "2                Produk Dilihat  0.031537\n"
     ]
    }
   ],
   "source": [
    "import pandas as pd\n",
    "from sklearn.cluster import KMeans\n",
    "from sklearn.preprocessing import StandardScaler\n",
    "from sklearn.metrics import adjusted_rand_score\n",
    "\n",
    "# 1. Load dataset\n",
    "# Ganti path ini sesuai lokasi file CSV-mu\n",
    "df = pd.read_excel(\"new_dataset.xlsx\") \n",
    "\n",
    "# 2. Bersihkan nama kolom\n",
    "df.columns = df.columns.str.strip()\n",
    "\n",
    "# 3. Definisikan label asli\n",
    "# Asumsinya kolom ke-9 (indeks 8) adalah label ground-truth\n",
    "df['label_asli'] = df.iloc[:, 3]\n",
    "\n",
    "# 4. Daftar fitur numerik yang akan diuji satu per satu\n",
    "fitur_list = [\n",
    "    'Kunjungan PerMinggu',\n",
    "    'Waktu Rata-Rata Situs(menit)',\n",
    "    'Produk Dilihat'\n",
    "]\n",
    "\n",
    "# 5. Bersihkan dan cast tiap kolom numerik menjadi float\n",
    "for kol in fitur_list:\n",
    "    df[kol] = (\n",
    "        df[kol]\n",
    "        .astype(str)\n",
    "        .str.replace(',', '.', regex=False)\n",
    "        .astype(float)\n",
    "    )\n",
    "\n",
    "# 6. Loop untuk menghitung ARI per fitur\n",
    "results = []\n",
    "n_clusters = df['label_asli'].nunique()\n",
    "\n",
    "for feat in fitur_list:\n",
    "    # 6a. Ambil kolom sebagai 2D array\n",
    "    X_feat = df[[feat]].values\n",
    "    \n",
    "    # 6b. Standarisasi\n",
    "    X_std = StandardScaler().fit_transform(X_feat)\n",
    "    \n",
    "    # 6c. Clustering dengan KMeans\n",
    "    kmeans = KMeans(n_clusters=n_clusters, random_state=42)\n",
    "    kmeans.fit(X_std)\n",
    "    \n",
    "    # 6d. Hitung ARI\n",
    "    ari = adjusted_rand_score(df['label_asli'], kmeans.labels_)\n",
    "    results.append((feat, ari))\n",
    "\n",
    "# 7. Tampilkan urutan fitur berdasarkan ARI tertinggi\n",
    "res_df = (\n",
    "    pd.DataFrame(results, columns=['fitur', 'ARI'])\n",
    "      .sort_values('ARI', ascending=False)\n",
    "      .reset_index(drop=True)\n",
    ")\n",
    "\n",
    "print(res_df)\n"
   ]
  }
 ],
 "metadata": {
  "kernelspec": {
   "display_name": "Python 3",
   "language": "python",
   "name": "python3"
  },
  "language_info": {
   "codemirror_mode": {
    "name": "ipython",
    "version": 3
   },
   "file_extension": ".py",
   "mimetype": "text/x-python",
   "name": "python",
   "nbconvert_exporter": "python",
   "pygments_lexer": "ipython3",
   "version": "3.13.0"
  }
 },
 "nbformat": 4,
 "nbformat_minor": 5
}
