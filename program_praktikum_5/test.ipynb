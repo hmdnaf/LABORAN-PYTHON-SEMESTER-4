{
 "cells": [
  {
   "cell_type": "code",
   "execution_count": null,
   "id": "43ee1dc1",
   "metadata": {},
   "outputs": [
    {
     "name": "stdout",
     "output_type": "stream",
     "text": [
      "Dataset berhasil dimuat dari file Excel (.xlsx).\n",
      "Informasi awal dataset:\n",
      "<class 'pandas.core.frame.DataFrame'>\n",
      "RangeIndex: 199 entries, 0 to 198\n",
      "Data columns (total 2 columns):\n",
      " #   Column     Non-Null Count  Dtype \n",
      "---  ------     --------------  ----- \n",
      " 0   text       199 non-null    object\n",
      " 1   sentiment  198 non-null    object\n",
      "dtypes: object(2)\n",
      "memory usage: 3.2+ KB\n",
      "\n",
      "Contoh 5 baris pertama:\n",
      "                                                text sentiment\n",
      "0  Faktor perbedaan harga bahan pokok tiap daerah...   Negatif\n",
      "1   mending alokasi dananya buat beasiswa pendidikan    Netral\n",
      "2  Pak prabowo nggak usah dipaksain ada program m...   Negatif\n",
      "3  buseett gue mah bingung siih ini program kerja...   Negatif\n",
      "4  Mending pke saran nya ahok gk sih Dri pada dui...   Negatif\n",
      "\n",
      "Nilai unik di kolom 'Label' sebelum pemrosesan: ['Negatif' 'Netral' 'Positif' nan]\n",
      "Jumlah NaN di 'Label' sebelum pemrosesan: 1\n",
      "\n",
      "Ukuran X_train: 159\n",
      "Ukuran y_train: 159\n",
      "Jumlah NaN di y_train sebelum pembersihan: 1\n",
      "Jumlah sampel di y_train setelah pembersihan: 158\n",
      "Jumlah sampel di X_train setelah pembersihan: 158\n",
      "Jumlah NaN di y_train setelah pembersihan: 0\n",
      "\n",
      "Bentuk X_train_counts_cleaned: (158, 788)\n",
      "Bentuk X_test_counts: (40, 788)\n",
      "\n",
      "Melatih model...\n",
      "\n",
      "Model berhasil dilatih!\n",
      "Contoh 10 prediksi pertama untuk data uji:\n",
      "['Negatif' 'Negatif' 'Negatif' 'Negatif' 'Negatif' 'Positif' 'Positif'\n",
      " 'Negatif' 'Positif' 'Negatif']\n",
      "\n",
      "Laporan Klasifikasi:\n",
      "              precision    recall  f1-score   support\n",
      "\n",
      "     Negatif       0.85      0.89      0.87        19\n",
      "      Netral       1.00      0.67      0.80         6\n",
      "     Positif       0.81      0.87      0.84        15\n",
      "\n",
      "    accuracy                           0.85        40\n",
      "   macro avg       0.89      0.81      0.84        40\n",
      "weighted avg       0.86      0.85      0.85        40\n",
      "\n",
      "Akurasi: 0.8500\n"
     ]
    }
   ],
   "source": []
  },
  {
   "cell_type": "code",
   "execution_count": 8,
   "id": "a78dac02",
   "metadata": {},
   "outputs": [
    {
     "name": "stdout",
     "output_type": "stream",
     "text": [
      "Dataset berhasil dimuat dari REVIEW KEBIJAKAN MBG.xlsx\n",
      "\n",
      "--- Lokasi Nilai NaN di Kolom 'sentiment' ---\n",
      "Nilai NaN di kolom 'sentiment' ditemukan pada indeks baris: [44]\n",
      "\n",
      "Berikut adalah baris-baris lengkap yang mengandung NaN:\n",
      "                                            text sentiment\n",
      "44  Duit ada aja buat gini Giliran yg lain susah       NaN\n"
     ]
    }
   ],
   "source": [
    "import pandas as pd\n",
    "\n",
    "# Asumsi Anda sudah memuat DataFrame Anda, misalnya dari file Excel:\n",
    "file_path = 'REVIEW KEBIJAKAN MBG.xlsx' # Ganti dengan nama file Anda yang sebenarnya\n",
    "try:\n",
    "    df = pd.read_excel(file_path)\n",
    "    print(f\"Dataset berhasil dimuat dari {file_path}\")\n",
    "except FileNotFoundError:\n",
    "    print(f\"Error: File '{file_path}' tidak ditemukan. Pastikan nama file dan path sudah benar.\")\n",
    "    exit()\n",
    "except Exception as e:\n",
    "    print(f\"Terjadi kesalahan saat membaca file Excel: {e}\")\n",
    "    print(\"Pastikan Anda telah menginstal pustaka 'openpyxl' atau 'xlrd'.\")\n",
    "    print(\"Anda dapat menginstalnya dengan: pip install openpyxl pandas\")\n",
    "    exit()\n",
    "\n",
    "print(\"\\n--- Lokasi Nilai NaN di Kolom 'sentiment' ---\")\n",
    "\n",
    "# Temukan indeks baris di mana kolom 'sentiment' adalah NaN\n",
    "# df['sentiment'].isna() akan menghasilkan Series boolean (True jika NaN)\n",
    "# .index[df['sentiment'].isna()] akan mendapatkan indeks dari baris-baris True tersebut\n",
    "nan_indices = df[df['sentiment'].isna()].index.tolist()\n",
    "\n",
    "if nan_indices:\n",
    "    print(f\"Nilai NaN di kolom 'sentiment' ditemukan pada indeks baris: {nan_indices}\")\n",
    "    print(\"\\nBerikut adalah baris-baris lengkap yang mengandung NaN:\")\n",
    "    # Tampilkan baris-baris tersebut untuk melihat konteksnya\n",
    "    print(df.loc[nan_indices])\n",
    "\n",
    "    # Contoh cara Anda bisa memperbaikinya secara manual (jika hanya sedikit)\n",
    "    # Misal, jika Anda tahu seharusnya itu 'Netral':\n",
    "    # df.loc[nan_indices, 'sentiment'] = 'Netral'\n",
    "    # Atau menghapus baris tersebut jika tidak diperlukan:\n",
    "    # df_cleaned = df.dropna(subset=['sentiment'])\n",
    "    # print(\"\\nDataFrame setelah perbaikan/penghapusan (jika dilakukan secara manual):\")\n",
    "    # print(df_cleaned.loc[nan_indices]) # Ini akan kosong jika dihapus\n",
    "else:\n",
    "    print(\"Tidak ada nilai NaN yang ditemukan di kolom 'sentiment'.\")"
   ]
  }
 ],
 "metadata": {
  "kernelspec": {
   "display_name": "Python 3",
   "language": "python",
   "name": "python3"
  },
  "language_info": {
   "codemirror_mode": {
    "name": "ipython",
    "version": 3
   },
   "file_extension": ".py",
   "mimetype": "text/x-python",
   "name": "python",
   "nbconvert_exporter": "python",
   "pygments_lexer": "ipython3",
   "version": "3.13.0"
  }
 },
 "nbformat": 4,
 "nbformat_minor": 5
}
